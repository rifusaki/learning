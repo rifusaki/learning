{
 "cells": [
  {
   "cell_type": "code",
   "execution_count": null,
   "metadata": {},
   "outputs": [],
   "source": [
    "#import numpy as np"
   ]
  },
  {
   "cell_type": "code",
   "execution_count": 3,
   "metadata": {},
   "outputs": [
    {
     "name": "stdout",
     "output_type": "stream",
     "text": [
      "Nombre de archivo (con extensión):  mbox.txt\n"
     ]
    },
    {
     "data": {
      "text/plain": [
       "'\\nfor line in ahandle:\\n    lp = line.upper()\\n    print(lp.rstrip())\\n'"
      ]
     },
     "execution_count": 3,
     "metadata": {},
     "output_type": "execute_result"
    }
   ],
   "source": [
    "'''\n",
    "# Ejemplo 1\n",
    "inputtxt = input(\"Nombre de archivo (con extensión): \")\n",
    "ahandle = open(inputtxt, \"r\")\n",
    "\n",
    "for line in ahandle:\n",
    "    lp = line.upper()\n",
    "    print(lp.rstrip())\n",
    "'''"
   ]
  },
  {
   "cell_type": "code",
   "execution_count": 15,
   "metadata": {},
   "outputs": [],
   "source": [
    "'''\n",
    "for line in ahandle:\n",
    "    if not line.startswith(\"\"):\n",
    "        continue\n",
    "    lst = line.find(\"X-DSPAM-Confidence: \")\n",
    "    nst = line.find(\" \", lst)\n",
    "    nen = line.find(\"\\n\", nst)\n",
    "    print(line)\n",
    "    print(line[nst:nen])\n",
    "'''"
   ]
  },
  {
   "cell_type": "code",
   "execution_count": null,
   "metadata": {},
   "outputs": [],
   "source": [
    "# Ejercicio 1\n",
    "inputtxt = input(\"Nombre de archivo (con extensión): \")\n",
    "if inputtxt == \"fuck u\":\n",
    "    print(\"no u\")\n",
    "    exit()\n",
    "try:\n",
    "    fileh = open(inputtxt, \"r\")\n",
    "except:\n",
    "    print(\"Haga eso bien\")\n",
    "    exit()\n",
    "\n",
    "midic = {}\n",
    "for line in fileh:\n",
    "    if not line.startswith(\"From\") or line.startswith(\"From:\"):\n",
    "        continue\n",
    "    print(line)\n",
    "    '''\n",
    "    line.rstrip()\n",
    "    linea = line.split()\n",
    "    midic[linea] = midic.get(linea, 0) + 1\n",
    "    '''\n",
    "\n",
    "print(midic)"
   ]
  },
  {
   "cell_type": "code",
   "execution_count": null,
   "metadata": {},
   "outputs": [],
   "source": []
  }
 ],
 "metadata": {
  "kernelspec": {
   "display_name": "Python 3",
   "language": "python",
   "name": "python3"
  },
  "language_info": {
   "codemirror_mode": {
    "name": "ipython",
    "version": 3
   },
   "file_extension": ".py",
   "mimetype": "text/x-python",
   "name": "python",
   "nbconvert_exporter": "python",
   "pygments_lexer": "ipython3",
   "version": "3.8.3"
  }
 },
 "nbformat": 4,
 "nbformat_minor": 4
}
